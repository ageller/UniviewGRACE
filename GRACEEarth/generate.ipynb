{
 "cells": [
  {
   "cell_type": "markdown",
   "metadata": {},
   "source": [
    "### Imports and function definitions"
   ]
  },
  {
   "cell_type": "code",
   "execution_count": 85,
   "metadata": {},
   "outputs": [],
   "source": [
    "#This directory contains all the data needed for the module. It should be in the same directory as the notebook\n",
    "dataFolder = \"data\"\n",
    "\n",
    "\n",
    "import sys, os, shutil, errno, string, urllib\n",
    "\n",
    "\n",
    "sys.path.append(( os.path.abspath( os.path.join(os.path.realpath(\"__file__\"),  os.pardir, os.pardir) )))\n",
    "import uvmodlib.v1 as uvmod"
   ]
  },
  {
   "cell_type": "markdown",
   "metadata": {},
   "source": [
    "### USES Conf Templates"
   ]
  },
  {
   "cell_type": "code",
   "execution_count": 86,
   "metadata": {},
   "outputs": [],
   "source": [
    "GRACETemplate = \"\"\"mesh\n",
    "{  \n",
    "    data  sphere ./modules/$folderName/sphere.obj\n",
    "    cullRadius $cr\n",
    "    glslVersion 330\n",
    "    \n",
    "    propertyCollection \n",
    "    {        \n",
    "        __objectName__\n",
    "        {           \n",
    "            vec4f p1min  -0.0222 -0.4003 -7.4230 -1.7452\n",
    "            vec4f p1max   0.0461  0.1758  2.4676  3.6071\n",
    "            vec4f p2min  -8.2840 -0.3413   0.     0.\n",
    "            vec4f p2max   7.2830  0.3417   1.     1. \n",
    "            vec1f clim 40\n",
    "            vec1f t0 2003.0151\n",
    "            vec1f tmid 2009.7753\n",
    "            vec1f tf 2016.5355\n",
    "            vec1f simUseTime  2003.0151\n",
    "            vec1f smoothLength 0.01\n",
    "            vec1f smoothN 0\n",
    "            bool simBindRealtime  false\n",
    "            bool simBindLimits  true\n",
    "            bool simSeasonal  true\n",
    "\n",
    "        }\n",
    "    }\n",
    "\n",
    "    pass \n",
    "    {\n",
    "        useDataObject sphere\n",
    "        shader\n",
    "        {\n",
    "            type defaultMeshShader\n",
    "            {\n",
    "                vertexShader   ./modules/$folderName/GRACEmap.vs\n",
    "                fragmentShader ./modules/$folderName/GRACEmap.fs\n",
    "                \n",
    "                StateManagerVar __objectName__.simUseTime simUseTime\n",
    "                StateManagerVar __objectName__.simBindRealtime simBindRealtime\n",
    "                StateManagerVar __objectName__.simBindLimits simBindLimits\n",
    "                StateManagerVar __objectName__.simSeasonal simSeasonal\n",
    "                StateManagerVar __objectName__.p1min p1min\n",
    "                StateManagerVar __objectName__.p2min p2min\n",
    "                StateManagerVar __objectName__.p1max p1max\n",
    "                StateManagerVar __objectName__.p2max p2max\n",
    "                StateManagerVar __objectName__.clim clim\n",
    "                StateManagerVar __objectName__.t0 t0\n",
    "                StateManagerVar __objectName__.tmid tmid\n",
    "                StateManagerVar __objectName__.tf tf\n",
    "                StateManagerVar __objectName__.smoothLength smoothLength\n",
    "                StateManagerVar __objectName__.smoothN smoothN\n",
    "\n",
    "\n",
    "                stateManagerVar __objectName__.Alpha        uv_alpha\n",
    "\n",
    "                texture fit1 ./modules/$folderName/GRACEfit_1.png\n",
    "                {\n",
    "                    colorspace linear\n",
    "                }\n",
    "                texture fit2 ./modules/$folderName/GRACEfit_2.png\n",
    "                {\n",
    "                    colorspace linear\n",
    "                }\n",
    "                texture coast ./modules/$folderName/EarthScienceOnSphere4096.png\n",
    "                {\n",
    "                    colorspace linear\n",
    "                }  \n",
    "                texture cmap ./modules/$folderName/cmap.png\n",
    "                {\n",
    "                    colorspace linear\n",
    "                }  \n",
    "                \n",
    "                glState\n",
    "                {\n",
    "                    UV_CULL_FACE_ENABLE false\n",
    "                    UV_BLEND_ENABLE true\n",
    "                    UV_BLEND_FUNC GL_SRC_ALPHA GL_ONE_MINUS_SRC_ALPHA\n",
    "                }\n",
    "            }\n",
    "\n",
    "        }    \n",
    "    }\n",
    "    \n",
    "\n",
    "    \n",
    "    \n",
    "}\"\"\""
   ]
  },
  {
   "cell_type": "markdown",
   "metadata": {},
   "source": [
    "### GRACEmap Class"
   ]
  },
  {
   "cell_type": "code",
   "execution_count": 87,
   "metadata": {},
   "outputs": [],
   "source": [
    "class GRACEmap():\n",
    "    def __init__(self, object):\n",
    "        self.object = object\n",
    "        uvmod.Utility.ensurerelativepathexsists(\"sphere.obj\",dataFolder)\n",
    "        uvmod.Utility.ensurerelativepathexsists(\"GRACEmap.vs\",dataFolder)\n",
    "        uvmod.Utility.ensurerelativepathexsists(\"GRACEmap.fs\",dataFolder)        \n",
    "        self.cr = 1000\n",
    "    def generatemod(self):\n",
    "        self.object.setgeometry(self.object.name+\"Mesh.usesconf\")\n",
    "        return self.object.generatemod()\n",
    "    def generatefiles(self, absOutDir, relOutDir):\n",
    "        fileName = self.object.name+\"Mesh.usesconf\"\n",
    "        s = string.Template(GRACETemplate)\n",
    "        f = open(absOutDir+\"\\\\\"+fileName, 'w')\n",
    "        if f:\n",
    "            f.write(s.substitute(folderName = relOutDir,\n",
    "                                 cr = self.cr))\n",
    "            f.close()\n",
    "        uvmod.Utility.copyfoldercontents(os.getcwd()+\"\\\\\"+dataFolder, absOutDir)"
   ]
  },
  {
   "cell_type": "markdown",
   "metadata": {},
   "source": [
    "### Object Instantiation"
   ]
  },
  {
   "cell_type": "code",
   "execution_count": 88,
   "metadata": {},
   "outputs": [],
   "source": [
    "GRACE = GRACEmap(uvmod.OrbitalObject())\n",
    "generator = uvmod.Generator()\n",
    "scene = uvmod.Scene()\n",
    "modinfo = uvmod.ModuleInformation()"
   ]
  },
  {
   "cell_type": "markdown",
   "metadata": {},
   "source": [
    "### Specify Settings and generate the module"
   ]
  },
  {
   "cell_type": "code",
   "execution_count": 89,
   "metadata": {},
   "outputs": [],
   "source": [
    "GRACE.object.setcameraradius(10)\n",
    "GRACE.object.setcoord(\"Earth\")\n",
    "GRACE.object.setname(\"GRACE\")\n",
    "GRACE.object.setguiname(\"/KavliLecture/Schrag/GRACE map\")\n",
    "GRACE.object.settargetradius(2000)\n",
    "GRACE.object.setscalefactor(660.0)\n",
    "GRACE.object.showatstartup(False)\n",
    "GRACE.object.custom = \"bin 9999\"\n",
    "GRACE.object.custom += \"\"\"\n",
    "    rotation\n",
    "    {\n",
    "        spice\n",
    "        {\n",
    "            frame\t\tIAU_EARTH \n",
    "            reference\tECLIPJ2000\n",
    "        }\n",
    "    }\"\"\"\n",
    "GRACE.cr = 10000\n",
    "\n",
    "\n",
    "\n",
    "modinfo.setname(\"GRACE Earth map\")\n",
    "modinfo.setauthor(\"Aaron Geller<sup>1</sup> and Daniel Schrag<sup>2</sup><br />(1)Adler Planetarium,<br />(2)Harvard University\")\n",
    "modinfo.cleardependencies()\n",
    "modinfo.adddependency(\"Earth\")\n",
    "modinfo.setdesc(\"A module to show the data from the GRACE satellite. <br /> \\\n",
    "                Using the GSFC solution. The aata comes from here: https://neptune.gsfc.nasa.gov/gngphys/index.php?section=413\")\n",
    "#modinfo.setthumbnail(\"data/thumb.png\")\n",
    "modinfo.setversion(\"1.0\")\n",
    "\n",
    "generator.generate(\"GRACE\",[],[GRACE],modinfo)\n",
    "uvmod.Utility.senduvcommand(GRACE.object.name+\".reload;\")"
   ]
  },
  {
   "cell_type": "markdown",
   "metadata": {},
   "source": [
    "## To reload"
   ]
  },
  {
   "cell_type": "code",
   "execution_count": 90,
   "metadata": {},
   "outputs": [],
   "source": [
    "from config import Settings"
   ]
  },
  {
   "cell_type": "code",
   "execution_count": 91,
   "metadata": {},
   "outputs": [],
   "source": [
    "uvmod.Utility.copyfoldercontents(os.getcwd()+\"\\\\\"+dataFolder, Settings.uvcustommodulelocation+'\\\\'+GRACE.object.name)\n",
    "uvmod.Utility.senduvcommand(GRACE.object.name+\".reload;\")"
   ]
  },
  {
   "cell_type": "code",
   "execution_count": null,
   "metadata": {},
   "outputs": [],
   "source": []
  }
 ],
 "metadata": {
  "anaconda-cloud": {},
  "kernelspec": {
   "display_name": "Python 3",
   "language": "python",
   "name": "python3"
  },
  "language_info": {
   "codemirror_mode": {
    "name": "ipython",
    "version": 3
   },
   "file_extension": ".py",
   "mimetype": "text/x-python",
   "name": "python",
   "nbconvert_exporter": "python",
   "pygments_lexer": "ipython3",
   "version": "3.6.4"
  }
 },
 "nbformat": 4,
 "nbformat_minor": 1
}
